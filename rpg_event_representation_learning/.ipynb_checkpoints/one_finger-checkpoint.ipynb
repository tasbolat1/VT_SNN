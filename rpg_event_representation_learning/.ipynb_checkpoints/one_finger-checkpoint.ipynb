{
 "cells": [
  {
   "cell_type": "code",
   "execution_count": 77,
   "metadata": {},
   "outputs": [],
   "source": [
    "import matplotlib.pyplot as plt\n",
    "from torch.utils.data import Dataset, DataLoader\n",
    "import torch\n",
    "from pathlib import Path\n",
    "import numpy as np\n",
    "from utils.models3 import Classifier\n",
    "import torch.nn as nn\n",
    "from utils.loader_new import Loader"
   ]
  },
  {
   "cell_type": "code",
   "execution_count": 78,
   "metadata": {},
   "outputs": [],
   "source": [
    "finger_type=1\n",
    "data_dir ='../../diag_data/aug4/'\n",
    "sample_file = 3\n",
    "output_size = 6\n",
    "model_path = '/home/tasbolat/tas_python_env/.guild/runs/044d19910d2b40f881d0a8faf0349b01/weights-200.pt'"
   ]
  },
  {
   "cell_type": "code",
   "execution_count": 79,
   "metadata": {},
   "outputs": [],
   "source": [
    "# Dataset definition\n",
    "class RawDataset(Dataset):\n",
    "    def __init__(self, datasetPath, sampleFile, modals=0):\n",
    "        self.path = datasetPath \n",
    "        self.samples = np.loadtxt(sampleFile, dtype=str)\n",
    "        \n",
    "\n",
    "    def __getitem__(self, index):\n",
    "        inputIndex  = self.samples[index, 0]\n",
    "        classLabel  = int(self.samples[index, 1])\n",
    "        #desiredClass = torch.zeros((20, 1, 1, 1))\n",
    "        #desiredClass[classLabel,...] = 1\n",
    "        inputSpikes_tact_left = torch.FloatTensor( np.load(self.path + inputIndex + '_left.npy') )\n",
    "        inputSpikes_tact_right = torch.FloatTensor( np.load(self.path + inputIndex+ '_right.npy') )\n",
    "        if finger_type == 0:\n",
    "            return inputSpikes_tact_left, classLabel\n",
    "        else:\n",
    "            return inputSpikes_tact_right, classLabel\n",
    "        #return inputSpikes_tact_left, inputSpikes_tact_right, classLabel\n",
    "        \n",
    "    def __len__(self):\n",
    "        return self.samples.shape[0]\n",
    "\n",
    "\n",
    "device = torch.device('cuda:0')\n",
    "\n",
    "\n",
    "class FLAGS():\n",
    "    def __init__(self):\n",
    "        self.batch_size = 100\n",
    "        self.pin_memory =True\n",
    "        self.num_workers = 1\n",
    "        self.device = device\n",
    "flags = FLAGS()\n",
    "criterion = torch.nn.CrossEntropyLoss()\n",
    "\n"
   ]
  },
  {
   "cell_type": "code",
   "execution_count": 80,
   "metadata": {},
   "outputs": [],
   "source": [
    "    \n",
    "trainingSet = RawDataset(datasetPath = data_dir + 'tact_rpg_data/', \n",
    "                        sampleFile = data_dir + \"/train_80_20_\" + str(sample_file) + \".txt\")\n",
    "train_loader = Loader(trainingSet, flags, device=device)    \n",
    "testingSet = RawDataset(datasetPath = data_dir + 'tact_rpg_data/', \n",
    "                        sampleFile  = data_dir + \"/test_80_20_\"  + str(sample_file) + \".txt\")\n",
    "test_loader = Loader(testingSet, flags, device=device)\n",
    "\n",
    "# model parameters\n",
    "\n",
    "voxel_dimension=(5,7,9)\n",
    "mlp_layers=[1, 30, 30, 1]\n",
    "activation=nn.LeakyReLU(negative_slope=0.1)\n",
    "\n",
    "\n",
    "model = Classifier(voxel_dimension=voxel_dimension, \n",
    "                     mlp_layers=mlp_layers, \n",
    "                     activation=activation, num_classes=output_size).to(device)"
   ]
  },
  {
   "cell_type": "code",
   "execution_count": 81,
   "metadata": {},
   "outputs": [
    {
     "data": {
      "text/plain": [
       "Classifier(\n",
       "  (quantization_layer1): QuantizationLayer(\n",
       "    (value_layer): ValueLayer(\n",
       "      (mlp): ModuleList(\n",
       "        (0): Linear(in_features=1, out_features=30, bias=True)\n",
       "        (1): Linear(in_features=30, out_features=30, bias=True)\n",
       "        (2): Linear(in_features=30, out_features=1, bias=True)\n",
       "      )\n",
       "      (activation): LeakyReLU(negative_slope=0.1)\n",
       "    )\n",
       "  )\n",
       "  (quantization_layer2): QuantizationLayer(\n",
       "    (value_layer): ValueLayer(\n",
       "      (mlp): ModuleList(\n",
       "        (0): Linear(in_features=1, out_features=30, bias=True)\n",
       "        (1): Linear(in_features=30, out_features=30, bias=True)\n",
       "        (2): Linear(in_features=30, out_features=1, bias=True)\n",
       "      )\n",
       "      (activation): LeakyReLU(negative_slope=0.1)\n",
       "    )\n",
       "  )\n",
       "  (classifier): SimpleNet(\n",
       "    (conv1): Conv2d(10, 30, kernel_size=(3, 3), stride=(1, 1), bias=False)\n",
       "    (relu1): ReLU()\n",
       "    (conv2): Conv2d(30, 80, kernel_size=(3, 3), stride=(1, 1))\n",
       "    (relu2): ReLU()\n",
       "    (fc): Linear(in_features=1200, out_features=6, bias=True)\n",
       "  )\n",
       ")"
      ]
     },
     "execution_count": 81,
     "metadata": {},
     "output_type": "execute_result"
    }
   ],
   "source": [
    "model.load_state_dict(torch.load(model_path))\n",
    "model.eval()"
   ]
  },
  {
   "cell_type": "code",
   "execution_count": 82,
   "metadata": {},
   "outputs": [],
   "source": [
    "correct = 0\n",
    "sum_loss = 0\n",
    "model.eval()\n",
    "with torch.no_grad():\n",
    "    for events1,  labels in test_loader:       \n",
    "        out, vox1 = model.forward(events1)\n",
    "        loss = criterion(out, labels)\n",
    "        _, predicted = torch.max(out.data, 1)\n",
    "        correct += (predicted == labels).sum().item()        \n",
    "validation_loss = sum_loss / len(testingSet)\n",
    "validation_accuracy = correct / len(testingSet)"
   ]
  },
  {
   "cell_type": "code",
   "execution_count": 83,
   "metadata": {},
   "outputs": [
    {
     "data": {
      "text/plain": [
       "0.7"
      ]
     },
     "execution_count": 83,
     "metadata": {},
     "output_type": "execute_result"
    }
   ],
   "source": [
    "correct/30"
   ]
  },
  {
   "cell_type": "code",
   "execution_count": 84,
   "metadata": {},
   "outputs": [
    {
     "data": {
      "text/plain": [
       "array([5, 3, 0, 3, 1, 4, 0, 2, 4, 0, 5, 5, 2, 0, 1, 2, 2, 4, 3, 1, 4, 5,\n",
       "       1, 0, 1, 4, 2, 3, 5, 3])"
      ]
     },
     "execution_count": 84,
     "metadata": {},
     "output_type": "execute_result"
    }
   ],
   "source": [
    "labels.cpu().numpy()"
   ]
  },
  {
   "cell_type": "code",
   "execution_count": 85,
   "metadata": {},
   "outputs": [
    {
     "data": {
      "text/plain": [
       "30"
      ]
     },
     "execution_count": 85,
     "metadata": {},
     "output_type": "execute_result"
    }
   ],
   "source": [
    "len(testingSet)"
   ]
  },
  {
   "cell_type": "code",
   "execution_count": 86,
   "metadata": {},
   "outputs": [],
   "source": [
    "count = 0\n",
    "total_testing_true=None\n",
    "testing_true = torch.zeros([len(testingSet),2])\n",
    "ll = []\n",
    "for events1, labels in test_loader:\n",
    "    label = labels.cpu()\n",
    "    testing_true[count:count+label.shape[0],0] = label\n",
    "    with torch.no_grad():\n",
    "        # Forward pass of the network.\n",
    "        out, vox1 = model.forward(events1)\n",
    "        _, predicted_label = torch.max(out.data, 1)\n",
    "        testing_true[count:count+label.shape[0],1] = predicted_label\n",
    "    count += label.shape[0]\n",
    "    ll.append(label)\n",
    "if total_testing_true is None:\n",
    "    total_testing_true = testing_true\n",
    "else:\n",
    "    total_testing_true = torch.cat([total_testing_true, testing_true])"
   ]
  },
  {
   "cell_type": "code",
   "execution_count": 87,
   "metadata": {},
   "outputs": [],
   "source": [
    "from sklearn.metrics import confusion_matrix"
   ]
  },
  {
   "cell_type": "code",
   "execution_count": 88,
   "metadata": {},
   "outputs": [],
   "source": [
    "cm = confusion_matrix(testing_true[:,0].numpy(), testing_true[:,1].numpy()).T"
   ]
  },
  {
   "cell_type": "code",
   "execution_count": 89,
   "metadata": {},
   "outputs": [],
   "source": [
    "import seaborn as sn"
   ]
  },
  {
   "cell_type": "code",
   "execution_count": 90,
   "metadata": {},
   "outputs": [
    {
     "data": {
      "image/png": "[encoded data removed]",
      "text/plain": [
       "<Figure size 720x504 with 1 Axes>"
      ]
     },
     "metadata": {
      "needs_background": "light"
     },
     "output_type": "display_data"
    }
   ],
   "source": [
    "plt.figure(figsize = (10,7))\n",
    "sn.heatmap(cm, annot=True, cbar=False)\n",
    "plt.ylabel('Actual')\n",
    "plt.xlabel('Predicted')\n",
    "plt.savefig('imgs/rpg_samplefile_'+str(sample_file)+'_'+str(finger_type)+'.png')\n",
    "plt.show()"
   ]
  },
  {
   "cell_type": "code",
   "execution_count": null,
   "metadata": {},
   "outputs": [],
   "source": []
  }
 ],
 "metadata": {
  "kernelspec": {
   "display_name": "Python 3",
   "language": "python",
   "name": "python3"
  },
  "language_info": {
   "codemirror_mode": {
    "name": "ipython",
    "version": 3
   },
   "file_extension": ".py",
   "mimetype": "text/x-python",
   "name": "python",
   "nbconvert_exporter": "python",
   "pygments_lexer": "ipython3",
   "version": "3.6.8"
  }
 },
 "nbformat": 4,
 "nbformat_minor": 2
}
