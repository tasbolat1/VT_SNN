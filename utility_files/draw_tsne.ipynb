{
 "cells": [
  {
   "cell_type": "code",
   "execution_count": null,
   "metadata": {},
   "outputs": [],
   "source": [
    "import numpy as np\n",
    "import pandas as pd\n",
    "import seaborn as sn\n",
    "from sklearn.manifold import TSNE\n",
    "import matplotlib.pyplot as plt\n",
    "import pickle"
   ]
  },
  {
   "cell_type": "raw",
   "metadata": {},
   "source": [
    "def get_weight(txt):\n",
    "    if '-a_' in txt:\n",
    "        return 0\n",
    "    elif '-b_' in txt:\n",
    "        return 1\n",
    "    elif '-c_' in txt:\n",
    "        return 2\n",
    "    elif '-d_' in txt:\n",
    "        return 3\n",
    "    elif '-e_' in txt:\n",
    "        return 4\n",
    "    \n",
    "def get_object(txt):\n",
    "    if 'pepsi' in txt:\n",
    "        return 'pepsi'\n",
    "    elif 'tuna' in txt:\n",
    "        return 'tuna'\n",
    "    elif 'soy' in txt:\n",
    "        return 'soy'\n",
    "    elif 'coffee' in txt:\n",
    "        return 'coffee'"
   ]
  },
  {
   "cell_type": "code",
   "execution_count": null,
   "metadata": {},
   "outputs": [],
   "source": [
    "[weights, objects, labels] = pickle.load(open('/home/tasbolat/some_python_examples/aug6/info.pkl', 'rb'))"
   ]
  },
  {
   "cell_type": "code",
   "execution_count": null,
   "metadata": {},
   "outputs": [],
   "source": [
    "VR_distances_norm_l = np.load('/home/tasbolat/some_python_examples/aug6/grasp_lift_hold_right_vr_distance.npy')"
   ]
  },
  {
   "cell_type": "code",
   "execution_count": null,
   "metadata": {},
   "outputs": [],
   "source": [
    "t_sne = TSNE(n_components=2, metric='precomputed', perplexity=22, random_state=0).fit_transform(VR_distances_norm_l)"
   ]
  },
  {
   "cell_type": "code",
   "execution_count": null,
   "metadata": {},
   "outputs": [],
   "source": [
    "tsne_df = pd.DataFrame(t_sne, columns=['x', 'y'])\n",
    "tsne_df = tsne_df.assign(labels = labels)\n",
    "tsne_df = tsne_df.assign(objects = objects)\n",
    "tsne_df = tsne_df.assign(weights = weights)"
   ]
  },
  {
   "cell_type": "code",
   "execution_count": null,
   "metadata": {
    "scrolled": false
   },
   "outputs": [],
   "source": [
    "fig, ax = plt.subplots(figsize=(15,15))\n",
    "sn.scatterplot(\n",
    "    x='x', y='y',\n",
    "    hue=\"objects\",\n",
    "    style=\"weights\",\n",
    "    data =tsne_df,\n",
    "    legend=\"full\",\n",
    "    ax=ax,\n",
    ")\n",
    "plt.show()"
   ]
  },
  {
   "cell_type": "code",
   "execution_count": null,
   "metadata": {},
   "outputs": [],
   "source": []
  },
  {
   "cell_type": "code",
   "execution_count": null,
   "metadata": {},
   "outputs": [],
   "source": []
  }
 ],
 "metadata": {
  "kernelspec": {
   "display_name": "Python 3",
   "language": "python",
   "name": "python3"
  },
  "language_info": {
   "codemirror_mode": {
    "name": "ipython",
    "version": 3
   },
   "file_extension": ".py",
   "mimetype": "text/x-python",
   "name": "python",
   "nbconvert_exporter": "python",
   "pygments_lexer": "ipython3",
   "version": "3.6.8"
  }
 },
 "nbformat": 4,
 "nbformat_minor": 2
}
